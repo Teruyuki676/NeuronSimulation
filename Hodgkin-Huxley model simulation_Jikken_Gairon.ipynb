{
 "cells": [
  {
   "cell_type": "code",
   "execution_count": null,
   "id": "943628c2",
   "metadata": {},
   "outputs": [],
   "source": [
    "import numpy as np\n",
    "import matplotlib.pyplot as plt\n",
    "from scipy.integrate import odeint\n",
    "\n",
    "Cm = 1 # membrane capacitance\n",
    "g_Na, g_K, g_L, = 120, 36, 0.3 # Maximam open condutance in each ion (mS/cm^2)\n",
    "E_Na, E_K, E_L = 60, -88, -54.387 # Equilbrium potential in each ion (mV)"
   ]
  },
  {
   "cell_type": "code",
   "execution_count": null,
   "id": "07df7a93",
   "metadata": {},
   "outputs": [],
   "source": [
    "# Transition rate (n = K activation parameter for hyperporalization)\n",
    "def alpha_n(V): return 0.01*(V+55)/(1-np.exp(-(V+55)/10))\n",
    "def beta_n(V): return 0.125*np.exp(-(V+65)/80)\n",
    "# (m = Na activation parameter for depolarization)\n",
    "def alpha_m(V): return 0.1*(V+40)/(1-np.exp(-(V+40)/10))\n",
    "def beta_m(V): return 4*np.exp(-(V+65)/18)\n",
    "# (h = Na inactivation parameter for refractory period)\n",
    "def alpha_h(V): return 0.07*np.exp(-(V+65)/20)\n",
    "def beta_h(V): return 1/(1+np.exp(-(V+35)/10))"
   ]
  },
  {
   "cell_type": "code",
   "execution_count": null,
   "id": "3bf11816",
   "metadata": {},
   "outputs": [],
   "source": [
    "# voltage dependent membrane condutance\n",
    "def g_NaV(V, m ,h): return g_Na * m**3*h\n",
    "def g_KV(V, n): return g_K * n**4\n",
    "def g_LV(V): return g_L"
   ]
  },
  {
   "cell_type": "code",
   "execution_count": null,
   "id": "ddc9d56e",
   "metadata": {},
   "outputs": [],
   "source": [
    "# current (mA)\n",
    "def I_Na(V, m, h): return g_NaV(V, m, h) * (V-E_Na)\n",
    "def I_K(V, n): return g_KV(V, n) * (V- E_K)\n",
    "def I_L(V): return g_LV(V) * (V-E_L)"
   ]
  },
  {
   "cell_type": "code",
   "execution_count": null,
   "id": "42a411c9",
   "metadata": {},
   "outputs": [],
   "source": [
    "# input stimulus\n",
    "t = np.arange(0, 350, 0.01)\n",
    "def I_inj(t):\n",
    "    return 10*(t>50)-10*(t>100)+40*(t>150)-40*(t>200)-5*(t>250)+5*(t>300)"
   ]
  },
  {
   "cell_type": "code",
   "execution_count": null,
   "id": "81065712",
   "metadata": {},
   "outputs": [],
   "source": [
    "# Solve four ODE\n",
    "def dALLdt(X,t):\n",
    "    V, m, h, n = X\n",
    "    dVdt = (I_inj(t)-I_Na(V, m, h)-I_K(V, n) - I_L(V))/Cm\n",
    "    dndt = alpha_n(V)*(1-n) - beta_n(V)*n\n",
    "    dmdt = alpha_m(V)*(1-m) - beta_m(V)*m\n",
    "    dhdt = alpha_h(V)*(1-h) - beta_h(V)*h\n",
    "    return dVdt, dmdt, dhdt, dndt\n",
    "    \n",
    "X = odeint(dALLdt, [-65, 0.05, 0.6, 0.32], t)\n",
    "V = X[:,0]\n",
    "m = X[:,1]\n",
    "h = X[:,2]\n",
    "n = X[:,3]\n",
    "ina = I_Na(V,m,h)\n",
    "ik = I_K(V, n)\n",
    "il = I_L(V)\n",
    "gna = g_NaV(V, m, h)\n",
    "gk = g_KV(V, n)\n",
    "gl = g_LV(V)"
   ]
  },
  {
   "cell_type": "code",
   "execution_count": null,
   "id": "2ff48a85",
   "metadata": {},
   "outputs": [],
   "source": [
    "plt.figure()\n",
    "\n",
    "plt.figure(figsize=(20,30))\n",
    "plt.subplot(5,1,1)\n",
    "plt.title('Hodgkin-Huxley model simulation')\n",
    "plt.plot(t, V, 'k')\n",
    "plt.ylabel('V (mV)')\n",
    "\n",
    "plt.subplot(5,1,2)\n",
    "plt.plot(t, ina, 'firebrick', label='$I_{Na}$')\n",
    "plt.plot(t, ik, 'orange', label = '$I_{K}$')\n",
    "plt.plot(t, il, 'darkviolet', label='$I_{L}$')\n",
    "plt.ylabel('Current ($mA/cm^2$)')\n",
    "plt.legend()\n",
    "\n",
    "plt.subplot(5,1,3)\n",
    "plt.plot(t, gna, 'sienna', label='$g_{Na}$')\n",
    "plt.plot(t, gk, 'salmon', label = '$g_{K}$')\n",
    "plt.ylabel('Conductance ($mS/cm^2$)')\n",
    "plt.legend()\n",
    "\n",
    "plt.subplot(5,1,4)\n",
    "plt.plot(t, m, 'g', label='m')\n",
    "plt.plot(t, h, 'r', label='h')\n",
    "plt.plot(t, n, 'b', label='n')\n",
    "plt.ylabel('Gating Value')\n",
    "plt.legend()\n",
    "\n",
    "plt.subplot(5,1,5)\n",
    "plt.plot(t, I_inj(t), 'k')\n",
    "plt.xlabel('t(ms)')\n",
    "plt.ylabel('$I_{inj}$ ($\\\\mu{A}/cm^2$)')\n",
    "\n",
    "plt.show()"
   ]
  },
  {
   "cell_type": "code",
   "execution_count": null,
   "id": "ab8eaf15",
   "metadata": {},
   "outputs": [],
   "source": []
  },
  {
   "cell_type": "code",
   "execution_count": null,
   "id": "36ef0136",
   "metadata": {},
   "outputs": [],
   "source": []
  }
 ],
 "metadata": {
  "kernelspec": {
   "display_name": "Python 3 (ipykernel)",
   "language": "python",
   "name": "python3"
  },
  "language_info": {
   "codemirror_mode": {
    "name": "ipython",
    "version": 3
   },
   "file_extension": ".py",
   "mimetype": "text/x-python",
   "name": "python",
   "nbconvert_exporter": "python",
   "pygments_lexer": "ipython3",
   "version": "3.9.12"
  }
 },
 "nbformat": 4,
 "nbformat_minor": 5
}
